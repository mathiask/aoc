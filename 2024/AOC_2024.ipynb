{
 "cells": [
  {
   "cell_type": "markdown",
   "id": "038a1225-2685-40cc-af87-74e2ff2efeef",
   "metadata": {},
   "source": [
    "Advent of Code 2024\n",
    "===================\n",
    "# Day 1\n",
    "## Part 1"
   ]
  },
  {
   "cell_type": "code",
   "execution_count": 1,
   "id": "ceec6697-84b7-4636-96e2-e2cd7c7bb366",
   "metadata": {},
   "outputs": [
    {
     "data": {
      "text/plain": [
       "11"
      ]
     },
     "execution_count": 1,
     "metadata": {},
     "output_type": "execute_result"
    }
   ],
   "source": [
    "t1 = [3, 4, 2, 1, 3, 3]\n",
    "t2 = [4, 3, 5, 3, 9, 3]\n",
    "sum([abs(x-y) for x, y in zip(sorted(t1), sorted(t2))])"
   ]
  },
  {
   "cell_type": "code",
   "execution_count": 2,
   "id": "5b893a4d-e38d-493f-a1c3-69bd85beeef9",
   "metadata": {},
   "outputs": [
    {
     "data": {
      "text/plain": [
       "2375403"
      ]
     },
     "execution_count": 2,
     "metadata": {},
     "output_type": "execute_result"
    }
   ],
   "source": [
    "with open('1.txt') as file:\n",
    "    pairs = [(int(x), int(y)) for x, y in (line.split() for line in file)]\n",
    "l1, l2 = zip(*pairs)\n",
    "sum([abs(x-y) for x, y in zip(sorted(l1), sorted(l2))])"
   ]
  },
  {
   "cell_type": "markdown",
   "id": "2d8e1466-abf0-4992-97d9-f27b2af5ef40",
   "metadata": {},
   "source": [
    "## Part 2"
   ]
  },
  {
   "cell_type": "code",
   "execution_count": 49,
   "id": "d7a6aa7f-0fed-4ad4-83b5-96f1075b38c2",
   "metadata": {},
   "outputs": [
    {
     "data": {
      "text/plain": [
       "[9, 4, 0, 0, 9, 9]"
      ]
     },
     "execution_count": 49,
     "metadata": {},
     "output_type": "execute_result"
    }
   ],
   "source": [
    "[x * len([y for y in t2 if x == y]) for x in t1]"
   ]
  },
  {
   "cell_type": "markdown",
   "id": "6327eb2a-813b-457a-96b8-3b9f03fd5062",
   "metadata": {},
   "source": [
    "sum([x * len([y for y in l2 if x == y]) for x in l1])"
   ]
  },
  {
   "cell_type": "markdown",
   "id": "f4e3be26-141e-430f-a04c-c6fa426dbe51",
   "metadata": {
    "editable": true,
    "slideshow": {
     "slide_type": ""
    },
    "tags": []
   },
   "source": [
    "-----\n",
    "# Day 2\n",
    "see [J solution](aoc2024.ijs)\n",
    "\n",
    "-----\n",
    "# Day 3\n",
    "## Part 1"
   ]
  },
  {
   "cell_type": "code",
   "execution_count": 8,
   "id": "9831f33a-a906-4a27-968b-9133ce4a5b5a",
   "metadata": {},
   "outputs": [],
   "source": [
    "import re\n",
    "s = 'xmul(2,4)%&mul[3,7]!@^do_not_mul(5,5)+mul(32,64]then(mul(11,8)mul(8,5))'"
   ]
  },
  {
   "cell_type": "code",
   "execution_count": 22,
   "id": "0a4a906d-e2ec-4bb9-944d-ae79cf2dd771",
   "metadata": {},
   "outputs": [
    {
     "data": {
      "text/plain": [
       "161"
      ]
     },
     "execution_count": 22,
     "metadata": {},
     "output_type": "execute_result"
    }
   ],
   "source": [
    "sum([int(m[1]) * int(m[2]) for m in re.finditer(r'mul\\((\\d+),(\\d+)\\)', s)])"
   ]
  },
  {
   "cell_type": "code",
   "execution_count": 56,
   "id": "8a1cdeda-6c76-4eb6-97a7-b1baae93e023",
   "metadata": {},
   "outputs": [
    {
     "data": {
      "text/plain": [
       "173419328"
      ]
     },
     "execution_count": 56,
     "metadata": {},
     "output_type": "execute_result"
    }
   ],
   "source": [
    "def eval_mult(s):\n",
    "    return sum([int(m[1]) * int(m[2]) for m in re.finditer(r'mul\\((\\d+),(\\d+)\\)', s)])\n",
    "\n",
    "with open('3.txt') as input:\n",
    "    s = input.read()\n",
    "eval_mult(s)"
   ]
  },
  {
   "cell_type": "markdown",
   "id": "b346de41-2edc-4b9f-8ffa-0e3153322c14",
   "metadata": {},
   "source": [
    "## Part 2"
   ]
  },
  {
   "cell_type": "code",
   "execution_count": 60,
   "id": "394ffc93-77a7-4891-b67a-ae4a6e03c987",
   "metadata": {},
   "outputs": [],
   "source": [
    "s = \"xmul(2,4)&mul[3,7]!^don't()_mul(5,5)+mul(32,64](mul(11,8)undo()?mul(8,5))\""
   ]
  },
  {
   "cell_type": "code",
   "execution_count": 59,
   "id": "88376502-9b32-40f7-ac11-cedc50e3562a",
   "metadata": {},
   "outputs": [],
   "source": [
    "def do_blocks(ss):\n",
    "    ds = []\n",
    "    do = True\n",
    "    for s in ss:\n",
    "        if s == 'do()':\n",
    "            do = True\n",
    "        elif s == \"don't()\":\n",
    "            do = False\n",
    "        else:\n",
    "            if do:\n",
    "                ds.append(s)\n",
    "    return ds"
   ]
  },
  {
   "cell_type": "code",
   "execution_count": 54,
   "id": "7d256cb5-ed51-46b9-8899-542f3b8ca209",
   "metadata": {},
   "outputs": [
    {
     "data": {
      "text/plain": [
       "['xmul(2,4)&mul[3,7]!^', '?mul(8,5))']"
      ]
     },
     "execution_count": 54,
     "metadata": {},
     "output_type": "execute_result"
    }
   ],
   "source": [
    "do_blocks(re.split(r\"(do\\(\\)|don't\\(\\))\", s))"
   ]
  },
  {
   "cell_type": "code",
   "execution_count": 62,
   "id": "e9482804-5e3c-47d2-95bb-e13f44508dde",
   "metadata": {},
   "outputs": [
    {
     "data": {
      "text/plain": [
       "48"
      ]
     },
     "execution_count": 62,
     "metadata": {},
     "output_type": "execute_result"
    }
   ],
   "source": [
    "sum([eval_mult(t) for t in do_blocks(re.split(r\"(do\\(\\)|don't\\(\\))\", s))])"
   ]
  },
  {
   "cell_type": "code",
   "execution_count": 64,
   "id": "2ab7b594-f6c0-4c6c-b646-3ddd805c480a",
   "metadata": {},
   "outputs": [
    {
     "data": {
      "text/plain": [
       "90669332"
      ]
     },
     "execution_count": 64,
     "metadata": {},
     "output_type": "execute_result"
    }
   ],
   "source": [
    "with open('3.txt') as input:\n",
    "    s = input.read()\n",
    "sum([eval_mult(t) for t in do_blocks(re.split(r\"(do\\(\\)|don't\\(\\))\", s))])"
   ]
  },
  {
   "cell_type": "markdown",
   "id": "2b721ca8-550d-4f89-ae91-ee71868b0a0a",
   "metadata": {},
   "source": [
    "-----\n",
    "# Day 4\n",
    "## Part 1\n"
   ]
  },
  {
   "cell_type": "code",
   "execution_count": 80,
   "id": "3b48f854-45f5-43a1-97a6-134807878f0e",
   "metadata": {},
   "outputs": [
    {
     "data": {
      "text/plain": [
       "18"
      ]
     },
     "execution_count": 80,
     "metadata": {},
     "output_type": "execute_result"
    }
   ],
   "source": [
    "map = '''MMMSXXMASM\n",
    "MSAMXMSMSA\n",
    "AMXSXMAAMM\n",
    "MSAMASMSMX\n",
    "XMASAMXAMM\n",
    "XXAMMXXAMA\n",
    "SMSMSASXSS\n",
    "SAXAMASAAA\n",
    "MAMMMXMMMM\n",
    "MXMXAXMASX'''.split()\n",
    "\n",
    "from collections import defaultdict \n",
    "\n",
    "d = defaultdict(str) | {(i,j):c for i,r in enumerate(map) for j,c in enumerate(map[i])}\n",
    "sum([s=='XMAS' for s in [''.join([d[1+n*d0, 4+n*d1] for n in range(4)]) for d0 in (-1,0,1) for d1 in (-1, 0, 1)]])\n",
    "\n",
    "def count_xmas(map):\n",
    "    d = defaultdict(str) | {(i,j):c for i,r in enumerate(map) for j,c in enumerate(map[i])}\n",
    "    return sum([s=='XMAS' for s in [''.join([d[x0+n*d0, x1+n*d1] for n in range(4)]) \n",
    "                                    for d0 in (-1,0,1) \n",
    "                                    for d1 in (-1, 0, 1)\n",
    "                                    for x0 in range(len(map))\n",
    "                                    for x1 in range(len(map[0]))\n",
    "                                   ]])\n",
    "\n",
    "count_xmas(map)"
   ]
  },
  {
   "cell_type": "code",
   "execution_count": 84,
   "id": "26707e5e-83ac-4096-961c-5b9b90ab9cd1",
   "metadata": {},
   "outputs": [
    {
     "data": {
      "text/plain": [
       "2562"
      ]
     },
     "execution_count": 84,
     "metadata": {},
     "output_type": "execute_result"
    }
   ],
   "source": [
    "with open('4.txt') as input:\n",
    "    s = input.read()\n",
    "count_xmas(s.split())"
   ]
  },
  {
   "cell_type": "markdown",
   "id": "926f7cf1-a33f-4d27-8d3e-63f9f043fe4c",
   "metadata": {},
   "source": [
    "## Part 2"
   ]
  },
  {
   "cell_type": "code",
   "execution_count": 89,
   "id": "685aa96f-7801-4c61-be5d-7e3e07717b84",
   "metadata": {},
   "outputs": [
    {
     "data": {
      "text/plain": [
       "9"
      ]
     },
     "execution_count": 89,
     "metadata": {},
     "output_type": "execute_result"
    }
   ],
   "source": [
    "def count_mas(map):\n",
    "    d = defaultdict(str) | {(i,j):c for i,r in enumerate(map) for j,c in enumerate(map[i])}\n",
    "    ss = ['MAS', 'SAM']\n",
    "    return sum([s in ss and t in ss for s,t  in [(''.join([d[x0-1,x1-1], d[x0,x1], d[x0+1,x1+1]]),\n",
    "                                                  ''.join([d[x0-1,x1+1], d[x0,x1], d[x0+1,x1-1]]))\n",
    "                                    for x0 in range(len(map))\n",
    "                                    for x1 in range(len(map[0]))\n",
    "                                   ]])\n",
    "\n",
    "count_mas(map)"
   ]
  },
  {
   "cell_type": "code",
   "execution_count": 90,
   "id": "dddb7107-c466-49e6-bf1b-408bb0c010cd",
   "metadata": {},
   "outputs": [
    {
     "data": {
      "text/plain": [
       "1902"
      ]
     },
     "execution_count": 90,
     "metadata": {},
     "output_type": "execute_result"
    }
   ],
   "source": [
    "with open('4.txt') as input:\n",
    "    s = input.read()\n",
    "count_mas(s.split())"
   ]
  },
  {
   "cell_type": "markdown",
   "id": "f80fb0d9-3318-43b1-a163-28039d188f2e",
   "metadata": {},
   "source": [
    "-----\n",
    "# Day 5\n",
    "## Part 1"
   ]
  },
  {
   "cell_type": "code",
   "execution_count": 65,
   "id": "347ec375-261d-43a8-ae13-820236464c49",
   "metadata": {},
   "outputs": [
    {
     "data": {
      "text/plain": [
       "143"
      ]
     },
     "execution_count": 65,
     "metadata": {},
     "output_type": "execute_result"
    }
   ],
   "source": [
    "txt5='''47|53\n",
    "97|13\n",
    "97|61\n",
    "97|47\n",
    "75|29\n",
    "61|13\n",
    "75|53\n",
    "29|13\n",
    "97|29\n",
    "53|29\n",
    "61|53\n",
    "97|53\n",
    "61|29\n",
    "47|13\n",
    "75|47\n",
    "97|75\n",
    "47|61\n",
    "75|61\n",
    "47|29\n",
    "75|13\n",
    "53|13\n",
    "\n",
    "75,47,61,53,29\n",
    "97,61,53,29,13\n",
    "75,29,13\n",
    "75,97,47,61,53\n",
    "61,13,29\n",
    "97,13,75,29,47'''\n",
    "\n",
    "rules5 = [list(map(int,s.split('|'))) for s in txt5.split('\\n\\n')[0].split()]\n",
    "data5 = [list(map(int,s.split(','))) for s in txt5.split('\\n\\n')[1].split()]\n",
    "\n",
    "def valid5(rule, row):\n",
    "    if not rule[0] in row or not rule[1] in row:\n",
    "        return True\n",
    "    i = [row.index(x) for x in rule]\n",
    "    return i[0] < i[1]\n",
    "\n",
    "sum([x[len(x)//2] for x in data5 if all(valid5(r, x) for r in rules5)])"
   ]
  },
  {
   "cell_type": "code",
   "execution_count": 66,
   "id": "5a407be7-313e-4b8d-97e6-24762489857f",
   "metadata": {},
   "outputs": [
    {
     "data": {
      "text/plain": [
       "7074"
      ]
     },
     "execution_count": 66,
     "metadata": {},
     "output_type": "execute_result"
    }
   ],
   "source": [
    "with open('5.txt') as input:\n",
    "    ss = input.read()\n",
    "(lambda rs,ds: sum([d[len(d)//2] for d in ds if all(valid5(r, d) for r in rs)]))(\n",
    "    [list(map(int,s.split('|'))) for s in ss.split('\\n\\n')[0].split()],\n",
    "    [list(map(int,s.split(','))) for s in ss.split('\\n\\n')[1].split()])\n"
   ]
  },
  {
   "cell_type": "markdown",
   "id": "02fb928a-0ffa-4b64-94b8-2cb620d37706",
   "metadata": {},
   "source": [
    "## Part 2"
   ]
  },
  {
   "cell_type": "code",
   "execution_count": 74,
   "id": "0956c5ed-e00a-415a-a6a6-ca6c4f721a73",
   "metadata": {},
   "outputs": [
    {
     "data": {
      "text/plain": [
       "123"
      ]
     },
     "execution_count": 74,
     "metadata": {},
     "output_type": "execute_result"
    }
   ],
   "source": [
    "from functools import cmp_to_key\n",
    "sum([(lambda l:l[len(l)//2])(sorted(x , key=cmp_to_key(lambda a,b: -1 if all(valid5(r, [a,b]) for r in rules5) else 1)))\n",
    "   for x in data5 if not all(valid5(r, x) for r in rules5)])"
   ]
  },
  {
   "cell_type": "code",
   "execution_count": 75,
   "id": "19785ee4-e4c4-49e9-9ecb-62a96e2f72ec",
   "metadata": {},
   "outputs": [
    {
     "data": {
      "text/plain": [
       "4828"
      ]
     },
     "execution_count": 75,
     "metadata": {},
     "output_type": "execute_result"
    }
   ],
   "source": [
    "with open('5.txt') as input:\n",
    "    ss = input.read()\n",
    "(lambda rs,ds: sum([(lambda l:l[len(l)//2])(sorted(x , key=cmp_to_key(lambda a,b: -1 if all(valid5(r, [a,b]) for r in rs) else 1)))\n",
    "   for x in ds if not all(valid5(r, x) for r in rs)]))(\n",
    "    [list(map(int,s.split('|'))) for s in ss.split('\\n\\n')[0].split()],\n",
    "    [list(map(int,s.split(','))) for s in ss.split('\\n\\n')[1].split()])"
   ]
  },
  {
   "cell_type": "markdown",
   "id": "25319dc6-44a2-4244-af71-1862b756a1af",
   "metadata": {},
   "source": [
    "-----\n",
    "# Day 6\n",
    "## Part 1"
   ]
  },
  {
   "cell_type": "code",
   "execution_count": 86,
   "id": "94b8d0ae-dd71-455a-a3b5-56bff8c3f4c9",
   "metadata": {},
   "outputs": [
    {
     "data": {
      "text/plain": [
       "41"
      ]
     },
     "execution_count": 86,
     "metadata": {},
     "output_type": "execute_result"
    }
   ],
   "source": [
    "class WalkableMap:\n",
    "    def __init__(self, map):\n",
    "        self.map = map\n",
    "        self.max_x0 = len(map)\n",
    "        self.max_x1 = len(map[0])\n",
    "        self.start = self.__find_guard()\n",
    "        self.__reset()\n",
    "        self.__set('X')\n",
    "        self.count = 1\n",
    "\n",
    "        \n",
    "    def __find_guard(self):\n",
    "        '''\n",
    "        Detect the starting position '^' in the given map\n",
    "        '''\n",
    "        return next((i,s.index('^')) for i,s in enumerate(self.map) if '^' in s)\n",
    "\n",
    "    def __reset(self):\n",
    "        self.x = self.start\n",
    "        self.v = (-1, 0)\n",
    "        self.path = [(self.x, self.v)]\n",
    "        self.stuck = False\n",
    "\n",
    "    def __set(self, c, x=None):\n",
    "        if x == None:\n",
    "            x = self.x\n",
    "        x0, x1 = x\n",
    "        l = list(self.map[x0])\n",
    "        l[x1] = c\n",
    "        self.map[x0] = ''.join(l)\n",
    "\n",
    "    def step(self):\n",
    "        if self.done():\n",
    "            return\n",
    "        x0, x1 = self.x\n",
    "        y = x0 + self.v[0], x1 + self.v[1]\n",
    "        if self.__exited(y):\n",
    "            self.x = y\n",
    "        elif self.__peek(y) == '#':\n",
    "            self.v = self.v[1], -self.v[0]\n",
    "        else:\n",
    "            if (y, self.v) in self.path:\n",
    "                self.stuck = True\n",
    "            else:\n",
    "                self.path.append((y, self.v))\n",
    "            self.x = y\n",
    "            if self.__peek() == '.':\n",
    "                self.__set('X')\n",
    "                self.count += 1\n",
    "\n",
    "    def done(self):\n",
    "        return self.exited() or self.stuck\n",
    "        \n",
    "    def exited(self):\n",
    "        return self.__exited(self.x)\n",
    "\n",
    "    def __exited(self, p):\n",
    "        return p[0] < 0 or p[0] >= self.max_x0 or p[1] < 0 or p[1] >= self.max_x1\n",
    "\n",
    "    def __peek(self, y=None):\n",
    "        if y == None:\n",
    "            y = self.x\n",
    "        return self.map[y[0]][y[1]]\n",
    "    \n",
    "    def route(self):\n",
    "        '''\n",
    "        Keep steppping until the guard exits the map\n",
    "\n",
    "        Returns the number of locations visited.\n",
    "        '''\n",
    "        while not self.done():\n",
    "            self.step()\n",
    "        return self.count\n",
    "\n",
    "    def traps(self):\n",
    "        '''\n",
    "        Count the number of ways to trap the guard\n",
    "        '''\n",
    "        cnt = 0\n",
    "        for x0 in range(self.max_x0):\n",
    "            for x1 in range(self.max_x1):\n",
    "                if (x0,x1) != self.start and self.__peek((x0, x1)) != '#':\n",
    "                    self.__set('#', (x0,x1))\n",
    "                    self.__reset()\n",
    "                    self.route()\n",
    "                    if self.stuck:\n",
    "                        cnt += 1\n",
    "                    self.__set('.', (x0,x1))\n",
    "        return cnt\n",
    "        \n",
    "        \n",
    "wm = WalkableMap('''\n",
    "....#.....\n",
    ".........#\n",
    "..........\n",
    "..#.......\n",
    ".......#..\n",
    "..........\n",
    ".#..^.....\n",
    "........#.\n",
    "#.........\n",
    "......#...\n",
    "'''.split())\n",
    "\n",
    "wm.route()"
   ]
  },
  {
   "cell_type": "code",
   "execution_count": 87,
   "id": "7c87d3f0-6fba-4c4a-9309-213339c36477",
   "metadata": {},
   "outputs": [
    {
     "data": {
      "text/plain": [
       "5153"
      ]
     },
     "execution_count": 87,
     "metadata": {},
     "output_type": "execute_result"
    }
   ],
   "source": [
    "with open('6.txt') as input:\n",
    "    txt6 = input.read()\n",
    "WalkableMap(txt6.split()).route()"
   ]
  },
  {
   "cell_type": "markdown",
   "id": "0ccc9d9f-6f1a-4a24-9fee-46f90c6dc737",
   "metadata": {},
   "source": [
    "## Part 2"
   ]
  },
  {
   "cell_type": "code",
   "execution_count": 88,
   "id": "010198e2-cfb1-47ac-aabe-4e8ffe46be7d",
   "metadata": {},
   "outputs": [
    {
     "data": {
      "text/plain": [
       "6"
      ]
     },
     "execution_count": 88,
     "metadata": {},
     "output_type": "execute_result"
    }
   ],
   "source": [
    "wm.traps()"
   ]
  },
  {
   "cell_type": "code",
   "execution_count": 89,
   "id": "313cd0ab-7e33-424a-97dd-6416309f70ca",
   "metadata": {},
   "outputs": [
    {
     "data": {
      "text/plain": [
       "1711"
      ]
     },
     "execution_count": 89,
     "metadata": {},
     "output_type": "execute_result"
    }
   ],
   "source": [
    "WalkableMap(txt6.split()).traps()"
   ]
  },
  {
   "cell_type": "markdown",
   "id": "2ea242a0-460d-4345-8f89-7c4c99cae075",
   "metadata": {},
   "source": [
    "---\n",
    "# Day 7\n",
    "## Part 1"
   ]
  },
  {
   "cell_type": "code",
   "execution_count": 124,
   "id": "21863281-1059-49cb-a6af-1aa4e2686441",
   "metadata": {},
   "outputs": [],
   "source": [
    "ss = '''190: 10 19\n",
    "3267: 81 40 27\n",
    "83: 17 5\n",
    "156: 15 6\n",
    "7290: 6 8 6 15\n",
    "161011: 16 10 13\n",
    "192: 17 8 14\n",
    "21037: 9 7 18 13\n",
    "292: 11 6 16 20'''.split('\\n')\n",
    "\n",
    "def parse7(s):\n",
    "    r, ns = s.split(': ')\n",
    "    return int(r), [int(x) for x in ns.split()]\n",
    "\n",
    "def chk7(eq, concat=False):\n",
    "    r, xs = eq\n",
    "    ys = xs[1:]\n",
    "    for fs in ops_lists(len(ys), concat):\n",
    "        x = xs[0]\n",
    "        for f, y in zip(fs, ys):\n",
    "            x = f(x, y)\n",
    "        if x == r:\n",
    "            return True\n",
    "    return False\n",
    "\n",
    "def ops_lists(n, concat):\n",
    "    if n == 0:\n",
    "        return [[]]\n",
    "    else:\n",
    "        ls = ops_lists(n-1, concat)\n",
    "        r = [l + [lambda x,y: x+y] for l in ls] + [l + [lambda x,y: x*y] for l in ls]\n",
    "        if concat:\n",
    "            r += [l + [lambda x, y: int(str(x) + str(y))] for l in ls]\n",
    "        return r"
   ]
  },
  {
   "cell_type": "code",
   "execution_count": 125,
   "id": "80025331-6b37-476e-b178-42791dac1ec5",
   "metadata": {},
   "outputs": [
    {
     "data": {
      "text/plain": [
       "True"
      ]
     },
     "execution_count": 125,
     "metadata": {},
     "output_type": "execute_result"
    }
   ],
   "source": [
    "chk7((3267, [81, 40, 27]))"
   ]
  },
  {
   "cell_type": "code",
   "execution_count": 126,
   "id": "66b922c8-a319-430b-8e8d-db1c35e3aa96",
   "metadata": {},
   "outputs": [
    {
     "data": {
      "text/plain": [
       "3749"
      ]
     },
     "execution_count": 126,
     "metadata": {},
     "output_type": "execute_result"
    }
   ],
   "source": [
    "sum([x for x,xs in list(map(parse7, ss)) if chk7((x,xs))])"
   ]
  },
  {
   "cell_type": "code",
   "execution_count": 127,
   "id": "2ad46a4b-0faf-4cad-85e0-da412f83f480",
   "metadata": {},
   "outputs": [
    {
     "data": {
      "text/plain": [
       "5030892084481"
      ]
     },
     "execution_count": 127,
     "metadata": {},
     "output_type": "execute_result"
    }
   ],
   "source": [
    "with open('7.txt') as input:\n",
    "    txt7 = [s for s in input.read().split('\\n') if len(s) > 0]\n",
    "sum([x for x,xs in list(map(parse7, txt7)) if chk7((x,xs))])"
   ]
  },
  {
   "cell_type": "markdown",
   "id": "c141ad81-0f34-4f2d-9aeb-d54eaa5a5673",
   "metadata": {},
   "source": [
    "## Part 2"
   ]
  },
  {
   "cell_type": "code",
   "execution_count": 130,
   "id": "0a470961-7ac1-4e4b-9303-c2d77faa615e",
   "metadata": {},
   "outputs": [
    {
     "data": {
      "text/plain": [
       "11387"
      ]
     },
     "execution_count": 130,
     "metadata": {},
     "output_type": "execute_result"
    }
   ],
   "source": [
    "sum([x for x,xs in list(map(parse7, ss)) if chk7((x,xs), True)])"
   ]
  },
  {
   "cell_type": "code",
   "execution_count": 131,
   "id": "22016c69-d517-41fe-997a-fc047672d65d",
   "metadata": {},
   "outputs": [
    {
     "data": {
      "text/plain": [
       "91377448644679"
      ]
     },
     "execution_count": 131,
     "metadata": {},
     "output_type": "execute_result"
    }
   ],
   "source": [
    "with open('7.txt') as input:\n",
    "    txt7 = [s for s in input.read().split('\\n') if len(s) > 0]\n",
    "sum([x for x,xs in list(map(parse7, txt7)) if chk7((x,xs), True)])"
   ]
  },
  {
   "cell_type": "markdown",
   "id": "ac666b4f-c281-4c81-9aa6-ff9dcf661aa5",
   "metadata": {},
   "source": [
    "---\n",
    "# Day 8\n",
    "## Part 1"
   ]
  },
  {
   "cell_type": "code",
   "execution_count": 2,
   "id": "30294fd9-87f5-4293-a424-118d5b74d3b5",
   "metadata": {},
   "outputs": [
    {
     "data": {
      "text/plain": [
       "{'0': [(1, 8), (2, 5), (3, 7), (4, 4)], 'A': [(5, 6), (8, 8), (9, 9)]}"
      ]
     },
     "execution_count": 2,
     "metadata": {},
     "output_type": "execute_result"
    }
   ],
   "source": [
    "ss = '''............\n",
    "........0...\n",
    ".....0......\n",
    ".......0....\n",
    "....0.......\n",
    "......A.....\n",
    "............\n",
    "............\n",
    "........A...\n",
    ".........A..\n",
    "............\n",
    "............'''.split()\n",
    "\n",
    "{c:[(i,j) for i,l in enumerate(ss) for j,d in enumerate(l) if c==d] for s in ss for c in list(s) if c!='.'}"
   ]
  },
  {
   "cell_type": "code",
   "execution_count": 3,
   "id": "ae81d1c4-edb8-4260-8663-ea90c75f6ed9",
   "metadata": {},
   "outputs": [
    {
     "data": {
      "text/plain": [
       "14"
      ]
     },
     "execution_count": 3,
     "metadata": {},
     "output_type": "execute_result"
    }
   ],
   "source": [
    "def step8(x,y):\n",
    "    x0,x1 = x\n",
    "    y0,y1 = y\n",
    "    return 2*y0-x0, 2*y1-x1\n",
    "\n",
    "def antinodes8(lines):\n",
    "    max_x0 = len(lines)\n",
    "    max_x1 = len(lines[0])\n",
    "    ants = {c:[(i,j) for i,l in enumerate(lines) for j,d in enumerate(l) if c==d] \n",
    "          for s in lines for c in list(s) if c!='.'}\n",
    "    antis = [(a, ants[c][j]) for c in ants.keys() for i,a in enumerate(ants[c]) for j in range(i+1, len(ants[c]))]\n",
    "    return {(x0, x1) for x0,x1 in {step8(x,y) for x,y in antis}|{step8(y,x) for x,y in antis} \n",
    "            if x0>=0 and x1>=0 and x0<max_x0 and x1<max_x1}\n",
    "    \n",
    "len(antinodes8(ss))"
   ]
  },
  {
   "cell_type": "code",
   "execution_count": 4,
   "id": "645706e0-bd44-4fe0-a154-d1a6f55ad14a",
   "metadata": {},
   "outputs": [
    {
     "data": {
      "text/plain": [
       "344"
      ]
     },
     "execution_count": 4,
     "metadata": {},
     "output_type": "execute_result"
    }
   ],
   "source": [
    "with open('8.txt') as input:\n",
    "    txt8 = input.read().split()\n",
    "len(antinodes8(txt8))"
   ]
  },
  {
   "cell_type": "markdown",
   "id": "783c6810-6499-42de-bab6-e51c9649abb7",
   "metadata": {},
   "source": [
    "## Part2"
   ]
  },
  {
   "cell_type": "code",
   "execution_count": 5,
   "id": "54ec36df-e561-4a02-bb23-d4d927ce8a34",
   "metadata": {},
   "outputs": [
    {
     "data": {
      "text/plain": [
       "34"
      ]
     },
     "execution_count": 5,
     "metadata": {},
     "output_type": "execute_result"
    }
   ],
   "source": [
    "def antinodes8b(lines):\n",
    "    ants = {c:[(i,j) for i,l in enumerate(lines) for j,d in enumerate(l) if c==d] \n",
    "          for s in lines for c in list(s) if c!='.'}\n",
    "    antis = [(a, ants[c][j]) for c in ants.keys() for i,a in enumerate(ants[c]) for j in range(i+1, len(ants[c]))]\n",
    "    return {(i,j) for i in range(len(lines)) for j in range(len(lines[i]))\n",
    "            # (x0-i, x1-j) ^ (y0-i,y1-j)\n",
    "            if any((x0-i)*(y1-j) - (x1-j)*(y0-i) == 0 for ((x0,x1), (y0,y1)) in antis)}\n",
    "\n",
    "len(antinodes8b(ss))"
   ]
  },
  {
   "cell_type": "code",
   "execution_count": 6,
   "id": "a0c7bc24-3fa7-4efe-87d2-2c519f7e75d5",
   "metadata": {},
   "outputs": [
    {
     "data": {
      "text/plain": [
       "1182"
      ]
     },
     "execution_count": 6,
     "metadata": {},
     "output_type": "execute_result"
    }
   ],
   "source": [
    "with open('8.txt') as input:\n",
    "    txt8 = input.read().split()\n",
    "len(antinodes8b(txt8))"
   ]
  },
  {
   "cell_type": "markdown",
   "id": "ef0a5fbb-72a9-48c8-9de8-05a8eaea1bcb",
   "metadata": {},
   "source": [
    "---\n",
    "# Day 9\n",
    "## Part 1"
   ]
  },
  {
   "cell_type": "code",
   "execution_count": 137,
   "id": "c248cc14-414a-4d83-9cc8-5d8bc683ed81",
   "metadata": {},
   "outputs": [
    {
     "data": {
      "text/plain": [
       "[0, None, None, 1, 1, 1, None, None, None, None, 2, 2, 2, 2, 2]"
      ]
     },
     "execution_count": 137,
     "metadata": {},
     "output_type": "execute_result"
    }
   ],
   "source": [
    "def unpack9(s):\n",
    "    n = (len(s)+1) // 2\n",
    "    return [y for l in ([x] * n \n",
    "                        for x,n in zip([x for p in zip(range(n-1), [None]*n) for x in p] + [n-1], (int(c) for c in s)))\n",
    "            for y in l]\n",
    "\n",
    "unpack9('12345')\n",
    "#unpack9('2333133121414131402')"
   ]
  },
  {
   "cell_type": "code",
   "execution_count": 133,
   "id": "f04716ee-3818-44f9-91f8-af72d58a09e0",
   "metadata": {},
   "outputs": [
    {
     "data": {
      "text/plain": [
       "[0, 2, 2, 1, 1, 1, 2, 2, 2, None, None, None, None, None, None]"
      ]
     },
     "execution_count": 133,
     "metadata": {},
     "output_type": "execute_result"
    }
   ],
   "source": [
    "def compact9(a):\n",
    "    if not None in a:\n",
    "        return a\n",
    "    l = a.index(None)\n",
    "    r = len(a) - 1\n",
    "    while l < r:\n",
    "        if a[r] == None:\n",
    "            r -= 1\n",
    "        elif a[l] != None:\n",
    "            l += 1\n",
    "        else:\n",
    "            a[l] = a[r]\n",
    "            a[r] = None\n",
    "    return a\n",
    "\n",
    "compact9(unpack9('12345'))\n",
    "#compact9(unpack9('2333133121414131402'))\n",
    "    "
   ]
  },
  {
   "cell_type": "code",
   "execution_count": 135,
   "id": "7273ff62-34ba-4c67-b814-c7c7b465a97d",
   "metadata": {},
   "outputs": [
    {
     "data": {
      "text/plain": [
       "1928"
      ]
     },
     "execution_count": 135,
     "metadata": {},
     "output_type": "execute_result"
    }
   ],
   "source": [
    "def chksum9(a):\n",
    "    return sum([(0 if x==None else x * n) for x, n in zip(a, range(len(a)))])\n",
    "\n",
    "chksum9(compact9(unpack9('2333133121414131402')))"
   ]
  },
  {
   "cell_type": "code",
   "execution_count": 136,
   "id": "74105723-5f32-416e-9ee6-d39f2238453b",
   "metadata": {},
   "outputs": [
    {
     "data": {
      "text/plain": [
       "6242766523059"
      ]
     },
     "execution_count": 136,
     "metadata": {},
     "output_type": "execute_result"
    }
   ],
   "source": [
    "with open('9.txt') as input:\n",
    "    txt9 = input.read().split()[0]\n",
    "chksum9(compact9(unpack9(txt9)))"
   ]
  },
  {
   "cell_type": "markdown",
   "id": "55e27556-386c-4adf-a805-c29b34c22f66",
   "metadata": {},
   "source": [
    "## Part 2"
   ]
  },
  {
   "cell_type": "markdown",
   "id": "f2bd00ec-f607-4689-87e5-df76dc499ac4",
   "metadata": {},
   "source": [
    "Let us keep the a list of files and empty space instead of a block list."
   ]
  },
  {
   "cell_type": "code",
   "execution_count": 139,
   "id": "82cf18f3-ed0e-4055-9d98-54b4c2a2252b",
   "metadata": {},
   "outputs": [
    {
     "data": {
      "text/plain": [
       "[(0, 2),\n",
       " (None, 3),\n",
       " (1, 3),\n",
       " (None, 3),\n",
       " (2, 1),\n",
       " (None, 3),\n",
       " (3, 3),\n",
       " (None, 1),\n",
       " (4, 2),\n",
       " (None, 1),\n",
       " (5, 4),\n",
       " (None, 1),\n",
       " (6, 4),\n",
       " (None, 1),\n",
       " (7, 3),\n",
       " (None, 1),\n",
       " (8, 4),\n",
       " (None, 0),\n",
       " (9, 2)]"
      ]
     },
     "execution_count": 139,
     "metadata": {},
     "output_type": "execute_result"
    }
   ],
   "source": [
    "def parse9(s):\n",
    "    n = (len(s)+1) // 2\n",
    "    return [(x, n) for x,n in zip([x for p in zip(range(n-1), [None]*n) for x in p] + [n-1], (int(c) for c in s))]\n",
    "\n",
    "parse9('2333133121414131402')"
   ]
  },
  {
   "cell_type": "code",
   "execution_count": 174,
   "id": "83c73617-3f5e-4a69-8e3b-89128678f75e",
   "metadata": {},
   "outputs": [
    {
     "data": {
      "text/plain": [
       "[(0, 2),\n",
       " (9, 2),\n",
       " (2, 1),\n",
       " (1, 3),\n",
       " (7, 3),\n",
       " (None, 1),\n",
       " (4, 2),\n",
       " (None, 1),\n",
       " (3, 3),\n",
       " (None, 1),\n",
       " (None, 2),\n",
       " (None, 1),\n",
       " (5, 4),\n",
       " (None, 1),\n",
       " (6, 4),\n",
       " (None, 1),\n",
       " (None, 3),\n",
       " (None, 1),\n",
       " (8, 4),\n",
       " (None, 0),\n",
       " (None, 2)]"
      ]
     },
     "execution_count": 174,
     "metadata": {},
     "output_type": "execute_result"
    }
   ],
   "source": [
    "def pack9(a):\n",
    "    r = len(a) - 1    \n",
    "    while r > 1:\n",
    "        if a[r][0] != None:\n",
    "            l = 1\n",
    "            while l < r:\n",
    "                if a[l][0] == None and a[l][1] >= a[r][1]:\n",
    "                    x = a[r]\n",
    "                    n = a[l][1] - x[1]\n",
    "                    if n > 0:\n",
    "                        a[l:l+1] = [x, (None, n)]\n",
    "                        r += 1\n",
    "                    else:\n",
    "                        a[l] = x\n",
    "                    a[r] = (None, x[1])\n",
    "                    break\n",
    "                l += 1\n",
    "        r -= 1\n",
    "    return a\n",
    "\n",
    "pack9(parse9('2333133121414131402'))"
   ]
  },
  {
   "cell_type": "code",
   "execution_count": 177,
   "id": "9f7b1657-1ea6-40a8-b570-f36c8cf59ce1",
   "metadata": {},
   "outputs": [
    {
     "data": {
      "text/plain": [
       "2858"
      ]
     },
     "execution_count": 177,
     "metadata": {},
     "output_type": "execute_result"
    }
   ],
   "source": [
    "def chksum9b(a):\n",
    "    return chksum9([y for l in ([x] * n for x,n in a) for y in l])\n",
    "\n",
    "chksum9b(pack9(parse9('2333133121414131402')))"
   ]
  },
  {
   "cell_type": "code",
   "execution_count": 178,
   "id": "374b59a9-205a-4b08-89f4-7748151a0e67",
   "metadata": {},
   "outputs": [
    {
     "data": {
      "text/plain": [
       "6272188244509"
      ]
     },
     "execution_count": 178,
     "metadata": {},
     "output_type": "execute_result"
    }
   ],
   "source": [
    "with open('9.txt') as input:\n",
    "    txt9 = input.read().split()[0]\n",
    "chksum9b(pack9(parse9(txt9)))"
   ]
  },
  {
   "cell_type": "markdown",
   "id": "053cdf7a-a1ef-4354-84af-8c8c119b3d73",
   "metadata": {},
   "source": [
    "---\n",
    "# Day 10\n",
    "TBD\n",
    "\n",
    "---\n",
    "# Day 11\n",
    "TBD"
   ]
  },
  {
   "cell_type": "markdown",
   "id": "41562fa3-353f-4161-89e2-7daafa47ec7f",
   "metadata": {},
   "source": [
    "---\n",
    "# Day 12\n",
    "## Part 1"
   ]
  },
  {
   "cell_type": "code",
   "execution_count": 222,
   "id": "e8cd7296-6726-40ea-a113-161e558b4085",
   "metadata": {},
   "outputs": [
    {
     "data": {
      "text/plain": [
       "140"
      ]
     },
     "execution_count": 222,
     "metadata": {},
     "output_type": "execute_result"
    }
   ],
   "source": [
    "from collections import defaultdict \n",
    "\n",
    "ss='''AAAA\n",
    "BBCD\n",
    "BBCC\n",
    "EEEC'''.split()\n",
    "\n",
    "m = defaultdict(str) | {(i,j):c for i,r in enumerate(ss) for j,c in enumerate(r)}\n",
    "\n",
    "def merge12(m, x, y):\n",
    "    to = m[x]\n",
    "    fr = m[y]\n",
    "    for z in m:\n",
    "        if m[z] == fr:\n",
    "            m[z] = to\n",
    "    return m\n",
    "\n",
    "def analyze12(m):\n",
    "    a = defaultdict(str) | {(i,j): (i,j) for i,j in m}\n",
    "    for i,j in a:\n",
    "        if m[(i,j)] == m[(i-1,j)]:\n",
    "            merge11(a, (i-1, j), (i,j))\n",
    "        if m[(i,j)] == m[(i,j-1)]:\n",
    "            merge11(a, (i, j-1), (i,j))\n",
    "    return a\n",
    "\n",
    "def prize12(a, x):\n",
    "    region = {(i,j) for i,j in a if a[(i,j)] == x}\n",
    "    fence = 0\n",
    "    for i,j in region:\n",
    "        for di, dj in (-1,0), (1,0), (0,-1), (0,1):\n",
    "            if a[(i,j)] != a[(i+di, j+dj)]:\n",
    "                fence += 1\n",
    "    return len(region) * fence\n",
    "\n",
    "def total12(ss):\n",
    "    m = defaultdict(str) | {(i,j):c for i,r in enumerate(ss) for j,c in enumerate(r)}\n",
    "    a = analyze11(m)\n",
    "    rs = set(a.values())\n",
    "    return sum(prize11(a, r) for r in rs)\n",
    "\n",
    "total12(ss)"
   ]
  },
  {
   "cell_type": "code",
   "execution_count": 223,
   "id": "0f7f83eb-72de-47c1-9b9d-607dc98c6db7",
   "metadata": {},
   "outputs": [
    {
     "data": {
      "text/plain": [
       "772"
      ]
     },
     "execution_count": 223,
     "metadata": {},
     "output_type": "execute_result"
    }
   ],
   "source": [
    "total12('''OOOOO\n",
    "OXOXO\n",
    "OOOOO\n",
    "OXOXO\n",
    "OOOOO'''.split())"
   ]
  },
  {
   "cell_type": "code",
   "execution_count": 224,
   "id": "0ea736ef-88bf-47ac-9aa0-feffa82fbd39",
   "metadata": {},
   "outputs": [
    {
     "data": {
      "text/plain": [
       "1930"
      ]
     },
     "execution_count": 224,
     "metadata": {},
     "output_type": "execute_result"
    }
   ],
   "source": [
    "total12('''RRRRIICCFF\n",
    "RRRRIICCCF\n",
    "VVRRRCCFFF\n",
    "VVRCCCJFFF\n",
    "VVVVCJJCFE\n",
    "VVIVCCJJEE\n",
    "VVIIICJJEE\n",
    "MIIIIIJJEE\n",
    "MIIISIJEEE\n",
    "MMMISSJEEE'''.split())"
   ]
  },
  {
   "cell_type": "code",
   "execution_count": 226,
   "id": "a913edd6-f23b-4ce0-bd0b-305617956e0d",
   "metadata": {},
   "outputs": [
    {
     "data": {
      "text/plain": [
       "1446042"
      ]
     },
     "execution_count": 226,
     "metadata": {},
     "output_type": "execute_result"
    }
   ],
   "source": [
    "with open('12.txt') as input:\n",
    "    txt12 = input.read().split()\n",
    "total12(txt12)"
   ]
  },
  {
   "cell_type": "markdown",
   "id": "7ee9ec0a-cf8a-4cec-9648-73f6ddd12d1b",
   "metadata": {},
   "source": [
    "---\n",
    "# Day 17\n",
    "## Part 1"
   ]
  },
  {
   "cell_type": "code",
   "execution_count": 102,
   "id": "4fc2ec8d-d5da-42b0-a7ac-84a9a3e9f0fd",
   "metadata": {},
   "outputs": [],
   "source": [
    "class Asm17:\n",
    "    def __init__(self, prg, a=0, b=0, c=0):\n",
    "        self.prg = prg\n",
    "        self.a = a\n",
    "        self.b = b\n",
    "        self.c = c\n",
    "        self.pc = 0\n",
    "        self.out = []\n",
    "\n",
    "    def step(self):\n",
    "        next_pc = self.pc + 2\n",
    "        match self.prg[self.pc]:\n",
    "            case 0: # adv\n",
    "                self.a = self.a // 2**self.combo()\n",
    "            case 1: # bxl\n",
    "                self.b = self.b ^ self.literal()\n",
    "            case 2: # bst\n",
    "                self.b = self.combo() % 8\n",
    "            case 3: # jnz\n",
    "                if self.a != 0:\n",
    "                    next_pc = self.literal()\n",
    "            case 4: # bxc\n",
    "                self.b = self.b ^ self.c\n",
    "            case 5: # out\n",
    "                self.out.append(self.combo() % 8)\n",
    "            case 6: # bdv\n",
    "                self.b = self.a // 2**self.combo()\n",
    "            case 7: # cdv\n",
    "                self.c = self.a // 2**self.combo()\n",
    "        self.pc = next_pc\n",
    "\n",
    "    def combo(self):\n",
    "        match self.literal():\n",
    "            case 4:\n",
    "                return self.a\n",
    "            case 5:\n",
    "                return self.b\n",
    "            case 6:\n",
    "                return self.c\n",
    "            case 7:\n",
    "                raise\n",
    "            case _:\n",
    "                return self.literal()\n",
    "\n",
    "    def literal(self):\n",
    "        return self.prg[self.pc + 1]\n",
    "\n",
    "    def run(self, trace=False):\n",
    "        if trace:\n",
    "            self.__dump()\n",
    "        while self.pc < len(self.prg):\n",
    "            self.step()\n",
    "            if trace:\n",
    "                self.__dump()\n",
    "        return self.out\n",
    "\n",
    "    def __dump(self):\n",
    "        print(f'@{self.pc:02o}: {self.a:o}/{self.b:o}/{self.c:o}\\t\\t{self.out}')"
   ]
  },
  {
   "cell_type": "code",
   "execution_count": 103,
   "id": "90074f91-cf68-4bc2-b102-6ee386714aad",
   "metadata": {},
   "outputs": [
    {
     "data": {
      "text/plain": [
       "[4, 6, 3, 5, 6, 3, 5, 2, 1, 0]"
      ]
     },
     "execution_count": 103,
     "metadata": {},
     "output_type": "execute_result"
    }
   ],
   "source": [
    "Asm17([0,1,5,4,3,0], 729).run()"
   ]
  },
  {
   "cell_type": "markdown",
   "id": "98ab6e5b-c6bf-4eb2-932e-1da88a224a2d",
   "metadata": {},
   "source": [
    "## Input\n",
    "    Register A: 22571680\n",
    "    Register B: 0\n",
    "    Register C: 0\n",
    "\n",
    "    Program: 2,4,1,3,7,5,0,3,4,3,1,5,5,5,3,0"
   ]
  },
  {
   "cell_type": "code",
   "execution_count": 104,
   "id": "9eb94266-e481-4569-b603-5725998e5c60",
   "metadata": {},
   "outputs": [
    {
     "data": {
      "text/plain": [
       "[2, 0, 1, 3, 4, 0, 2, 1, 7]"
      ]
     },
     "execution_count": 104,
     "metadata": {},
     "output_type": "execute_result"
    }
   ],
   "source": [
    "Asm17([2,4, 1,3, 7,5, 0,3, 4,3, 1,5, 5,5, 3,0], 22571680).run()"
   ]
  },
  {
   "cell_type": "markdown",
   "id": "4b6d7039-c2c6-48b1-9a10-9393af997dea",
   "metadata": {},
   "source": [
    "## Part 2"
   ]
  },
  {
   "cell_type": "code",
   "execution_count": 105,
   "id": "e8e42e6c-5e39-49c7-aa86-c1d3fde936f7",
   "metadata": {},
   "outputs": [
    {
     "data": {
      "text/plain": [
       "117440"
      ]
     },
     "execution_count": 105,
     "metadata": {},
     "output_type": "execute_result"
    }
   ],
   "source": [
    "((((3*8+4)*8)+5)*8+3)*8*8"
   ]
  },
  {
   "cell_type": "code",
   "execution_count": 106,
   "id": "3ffe210e-9df1-4f14-9c18-a538e550463c",
   "metadata": {},
   "outputs": [
    {
     "data": {
      "text/plain": [
       "[0, 3, 5, 4, 3, 0]"
      ]
     },
     "execution_count": 106,
     "metadata": {},
     "output_type": "execute_result"
    }
   ],
   "source": [
    "Asm17([0,3,5,4,3,0], 117440).run()"
   ]
  },
  {
   "cell_type": "markdown",
   "id": "5125c8a4-73ee-434b-bf38-c74c16a5f7be",
   "metadata": {},
   "source": [
    "Let us disassemble our concrete program...\n",
    "\n",
    "    00  2,4  bst A%8    B = A % 8\n",
    "    02  1,3  bxl #3     B = B ^ 3\n",
    "    04  7,5  cdv B      C = A / 2^B\n",
    "    06  0,3  adv #3     A = A / 8\n",
    "    10  4,3  bxc        B = B ^ C\n",
    "    12  1,5  bxl #5     B = B ^ 5\n",
    "    14  5,5  out B%8    OUT B % 8\n",
    "    16  3,0  jnz 0      JNZ 0\n",
    "\n",
    "... and trace it:"
   ]
  },
  {
   "cell_type": "code",
   "execution_count": 107,
   "id": "20d622e5-58b5-4975-92c9-3f8c109ed4bc",
   "metadata": {},
   "outputs": [
    {
     "data": {
      "text/plain": [
       "[(0, [5, 6]),\n",
       " (1, [1, 6]),\n",
       " (2, [1, 6]),\n",
       " (3, [6, 6]),\n",
       " (4, [2, 6]),\n",
       " (5, [3, 6]),\n",
       " (6, [0, 6]),\n",
       " (7, [0, 6])]"
      ]
     },
     "execution_count": 107,
     "metadata": {},
     "output_type": "execute_result"
    }
   ],
   "source": [
    "[(i,Asm17([2,4, 1,3, 7,5, 0,3, 4,3, 1,5, 5,5, 3,0], 0o30 + i).run()) for i in range(8)]"
   ]
  },
  {
   "cell_type": "code",
   "execution_count": 112,
   "id": "28877a70-d4d4-47be-9d1d-2449e5ee7bc8",
   "metadata": {},
   "outputs": [
    {
     "data": {
      "text/plain": [
       "236580836040301"
      ]
     },
     "execution_count": 112,
     "metadata": {},
     "output_type": "execute_result"
    }
   ],
   "source": [
    "def dfs17(prg, n=0, l=None):\n",
    "    if l == None:\n",
    "        l = len(prg)\n",
    "    if l < 1:\n",
    "        return n\n",
    "    l -= 1\n",
    "    for i in range(8):\n",
    "        x = n*8 + i\n",
    "        if Asm17(prg, x).run() == prg[l:]:\n",
    "            r = dfs17(prg, x, l)\n",
    "            if r != None:\n",
    "                return r\n",
    "    return None\n",
    "        \n",
    "\n",
    "dfs17([2,4, 1,3, 7,5, 0,3, 4,3, 1,5, 5,5, 3,0])"
   ]
  },
  {
   "cell_type": "markdown",
   "id": "651d3a3a-dd1a-4a8d-ae59-279ffe0063df",
   "metadata": {},
   "source": [
    "---\n",
    "# Day 19\n",
    "## Part 1"
   ]
  },
  {
   "cell_type": "code",
   "execution_count": 15,
   "id": "6ee071b8-8fa5-4afe-ac35-13b65eb3f19f",
   "metadata": {},
   "outputs": [
    {
     "data": {
      "text/plain": [
       "6"
      ]
     },
     "execution_count": 15,
     "metadata": {},
     "output_type": "execute_result"
    }
   ],
   "source": [
    "import re\n",
    "\n",
    "s19='''r, wr, b, g, bwu, rb, gb, br\n",
    "\n",
    "brwrr\n",
    "bggr\n",
    "gbbr\n",
    "rrbgbr\n",
    "ubwu\n",
    "bwurrg\n",
    "brgr\n",
    "bbrgwb'''.split('\\n')\n",
    "\n",
    "p19 = re.compile(r'^(' + '|'.join(s19[0].split(', ')) + r')*$')\n",
    "len([s for s in s19[2:] if p19.match(s)])"
   ]
  },
  {
   "cell_type": "code",
   "execution_count": 20,
   "id": "6c2a188d-a1a2-465a-bdb5-4935d4cc411a",
   "metadata": {},
   "outputs": [
    {
     "data": {
      "text/plain": [
       "355"
      ]
     },
     "execution_count": 20,
     "metadata": {},
     "output_type": "execute_result"
    }
   ],
   "source": [
    "with open('19.txt') as input:\n",
    "    txt19 = input.read().split('\\n')\n",
    "p19 = re.compile(r'^(' + '|'.join(txt19[0].split(', ')) + r')+$')\n",
    "len([s for s in txt19[2:] if p19.match(s)])"
   ]
  },
  {
   "cell_type": "markdown",
   "id": "61964d3f-90d7-418a-be49-15015af09ea2",
   "metadata": {},
   "source": [
    "## Part 2"
   ]
  },
  {
   "cell_type": "code",
   "execution_count": 48,
   "id": "8a9e7534-f015-4efc-bad6-b2cc264e0d5d",
   "metadata": {},
   "outputs": [],
   "source": [
    "def combinations19(blocks, s):\n",
    "    if s == '':\n",
    "        return 1\n",
    "    return sum(combinations19(blocks, s[len(t):]) if s.startswith(t) else 0 for t in blocks)    "
   ]
  },
  {
   "cell_type": "code",
   "execution_count": 47,
   "id": "93aeaa8a-4141-42b9-8cff-449f6e1d0980",
   "metadata": {},
   "outputs": [
    {
     "data": {
      "text/plain": [
       "16"
      ]
     },
     "execution_count": 47,
     "metadata": {},
     "output_type": "execute_result"
    }
   ],
   "source": [
    "s19='''r, wr, b, g, bwu, rb, gb, br\n",
    "\n",
    "brwrr\n",
    "bggr\n",
    "gbbr\n",
    "rrbgbr\n",
    "ubwu\n",
    "bwurrg\n",
    "brgr\n",
    "bbrgwb\n",
    "'''.split('\\n')\n",
    "\n",
    "sum(combinations19(s19[0].split(', '), s) for s in s19[2:-1])"
   ]
  },
  {
   "cell_type": "code",
   "execution_count": null,
   "id": "827b91a5-e901-452b-9473-a8721d1fa66f",
   "metadata": {},
   "outputs": [],
   "source": [
    "with open('19.txt') as input:\n",
    "    txt19 = input.read().split('\\n')\n",
    "sum(combinations19(txt19[0].split(', '), s) for s in txt19[2:3])"
   ]
  },
  {
   "cell_type": "code",
   "execution_count": null,
   "id": "b84724ff-94cb-4d24-bcbb-449bdbb4d185",
   "metadata": {},
   "outputs": [],
   "source": []
  }
 ],
 "metadata": {
  "kernelspec": {
   "display_name": "Python 3 (ipykernel)",
   "language": "python",
   "name": "python3"
  },
  "language_info": {
   "codemirror_mode": {
    "name": "ipython",
    "version": 3
   },
   "file_extension": ".py",
   "mimetype": "text/x-python",
   "name": "python",
   "nbconvert_exporter": "python",
   "pygments_lexer": "ipython3",
   "version": "3.12.8"
  }
 },
 "nbformat": 4,
 "nbformat_minor": 5
}
