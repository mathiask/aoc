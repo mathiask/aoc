{
 "cells": [
  {
   "cell_type": "markdown",
   "id": "038a1225-2685-40cc-af87-74e2ff2efeef",
   "metadata": {
    "jp-MarkdownHeadingCollapsed": true
   },
   "source": [
    "Advent of Code 2024\n",
    "===================\n",
    "# Day 1\n",
    "## Part 1"
   ]
  },
  {
   "cell_type": "code",
   "execution_count": 1,
   "id": "ceec6697-84b7-4636-96e2-e2cd7c7bb366",
   "metadata": {},
   "outputs": [
    {
     "data": {
      "text/plain": [
       "11"
      ]
     },
     "execution_count": 1,
     "metadata": {},
     "output_type": "execute_result"
    }
   ],
   "source": [
    "t1 = [3, 4, 2, 1, 3, 3]\n",
    "t2 = [4, 3, 5, 3, 9, 3]\n",
    "sum([abs(x-y) for x, y in zip(sorted(t1), sorted(t2))])"
   ]
  },
  {
   "cell_type": "code",
   "execution_count": 2,
   "id": "5b893a4d-e38d-493f-a1c3-69bd85beeef9",
   "metadata": {},
   "outputs": [
    {
     "data": {
      "text/plain": [
       "2375403"
      ]
     },
     "execution_count": 2,
     "metadata": {},
     "output_type": "execute_result"
    }
   ],
   "source": [
    "with open('1.txt') as file:\n",
    "    pairs = [(int(x), int(y)) for x, y in (line.split() for line in file)]\n",
    "l1, l2 = zip(*pairs)\n",
    "sum([abs(x-y) for x, y in zip(sorted(l1), sorted(l2))])"
   ]
  },
  {
   "cell_type": "markdown",
   "id": "2d8e1466-abf0-4992-97d9-f27b2af5ef40",
   "metadata": {},
   "source": [
    "## Part 2"
   ]
  },
  {
   "cell_type": "code",
   "execution_count": 49,
   "id": "d7a6aa7f-0fed-4ad4-83b5-96f1075b38c2",
   "metadata": {},
   "outputs": [
    {
     "data": {
      "text/plain": [
       "[9, 4, 0, 0, 9, 9]"
      ]
     },
     "execution_count": 49,
     "metadata": {},
     "output_type": "execute_result"
    }
   ],
   "source": [
    "[x * len([y for y in t2 if x == y]) for x in t1]"
   ]
  },
  {
   "cell_type": "markdown",
   "id": "6327eb2a-813b-457a-96b8-3b9f03fd5062",
   "metadata": {},
   "source": [
    "sum([x * len([y for y in l2 if x == y]) for x in l1])"
   ]
  },
  {
   "cell_type": "markdown",
   "id": "f4e3be26-141e-430f-a04c-c6fa426dbe51",
   "metadata": {
    "editable": true,
    "jp-MarkdownHeadingCollapsed": true,
    "slideshow": {
     "slide_type": ""
    },
    "tags": []
   },
   "source": [
    "-----\n",
    "# Day 2\n",
    "see [J solution](aoc2024.ijs)\n",
    "-----\n",
    "# Day 3\n",
    "## Part 1"
   ]
  },
  {
   "cell_type": "code",
   "execution_count": 8,
   "id": "9831f33a-a906-4a27-968b-9133ce4a5b5a",
   "metadata": {},
   "outputs": [],
   "source": [
    "import re\n",
    "s = 'xmul(2,4)%&mul[3,7]!@^do_not_mul(5,5)+mul(32,64]then(mul(11,8)mul(8,5))'"
   ]
  },
  {
   "cell_type": "code",
   "execution_count": 22,
   "id": "0a4a906d-e2ec-4bb9-944d-ae79cf2dd771",
   "metadata": {},
   "outputs": [
    {
     "data": {
      "text/plain": [
       "161"
      ]
     },
     "execution_count": 22,
     "metadata": {},
     "output_type": "execute_result"
    }
   ],
   "source": [
    "sum([int(m[1]) * int(m[2]) for m in re.finditer(r'mul\\((\\d+),(\\d+)\\)', s)])"
   ]
  },
  {
   "cell_type": "code",
   "execution_count": 56,
   "id": "8a1cdeda-6c76-4eb6-97a7-b1baae93e023",
   "metadata": {},
   "outputs": [
    {
     "data": {
      "text/plain": [
       "173419328"
      ]
     },
     "execution_count": 56,
     "metadata": {},
     "output_type": "execute_result"
    }
   ],
   "source": [
    "def eval_mult(s):\n",
    "    return sum([int(m[1]) * int(m[2]) for m in re.finditer(r'mul\\((\\d+),(\\d+)\\)', s)])\n",
    "\n",
    "with open('3.txt') as input:\n",
    "    s = input.read()\n",
    "eval_mult(s)"
   ]
  },
  {
   "cell_type": "markdown",
   "id": "b346de41-2edc-4b9f-8ffa-0e3153322c14",
   "metadata": {},
   "source": [
    "## Part 2"
   ]
  },
  {
   "cell_type": "code",
   "execution_count": 60,
   "id": "394ffc93-77a7-4891-b67a-ae4a6e03c987",
   "metadata": {},
   "outputs": [],
   "source": [
    "s = \"xmul(2,4)&mul[3,7]!^don't()_mul(5,5)+mul(32,64](mul(11,8)undo()?mul(8,5))\""
   ]
  },
  {
   "cell_type": "code",
   "execution_count": 59,
   "id": "88376502-9b32-40f7-ac11-cedc50e3562a",
   "metadata": {},
   "outputs": [],
   "source": [
    "def do_blocks(ss):\n",
    "    ds = []\n",
    "    do = True\n",
    "    for s in ss:\n",
    "        if s == 'do()':\n",
    "            do = True\n",
    "        elif s == \"don't()\":\n",
    "            do = False\n",
    "        else:\n",
    "            if do:\n",
    "                ds.append(s)\n",
    "    return ds"
   ]
  },
  {
   "cell_type": "code",
   "execution_count": 54,
   "id": "7d256cb5-ed51-46b9-8899-542f3b8ca209",
   "metadata": {},
   "outputs": [
    {
     "data": {
      "text/plain": [
       "['xmul(2,4)&mul[3,7]!^', '?mul(8,5))']"
      ]
     },
     "execution_count": 54,
     "metadata": {},
     "output_type": "execute_result"
    }
   ],
   "source": [
    "do_blocks(re.split(r\"(do\\(\\)|don't\\(\\))\", s))"
   ]
  },
  {
   "cell_type": "code",
   "execution_count": 62,
   "id": "e9482804-5e3c-47d2-95bb-e13f44508dde",
   "metadata": {},
   "outputs": [
    {
     "data": {
      "text/plain": [
       "48"
      ]
     },
     "execution_count": 62,
     "metadata": {},
     "output_type": "execute_result"
    }
   ],
   "source": [
    "sum([eval_mult(t) for t in do_blocks(re.split(r\"(do\\(\\)|don't\\(\\))\", s))])"
   ]
  },
  {
   "cell_type": "code",
   "execution_count": 64,
   "id": "2ab7b594-f6c0-4c6c-b646-3ddd805c480a",
   "metadata": {},
   "outputs": [
    {
     "data": {
      "text/plain": [
       "90669332"
      ]
     },
     "execution_count": 64,
     "metadata": {},
     "output_type": "execute_result"
    }
   ],
   "source": [
    "with open('3.txt') as input:\n",
    "    s = input.read()\n",
    "sum([eval_mult(t) for t in do_blocks(re.split(r\"(do\\(\\)|don't\\(\\))\", s))])"
   ]
  },
  {
   "cell_type": "markdown",
   "id": "2b721ca8-550d-4f89-ae91-ee71868b0a0a",
   "metadata": {
    "jp-MarkdownHeadingCollapsed": true
   },
   "source": [
    "-----\n",
    "# Day 4\n"
   ]
  },
  {
   "cell_type": "code",
   "execution_count": 67,
   "id": "6ecf2eb8-5450-490e-b8be-370bec0b3db0",
   "metadata": {},
   "outputs": [
    {
     "data": {
      "text/plain": [
       "6"
      ]
     },
     "execution_count": 67,
     "metadata": {},
     "output_type": "execute_result"
    }
   ],
   "source": [
    "m = [[1,2,3], [4,5,6], [7,8,9]]\n",
    "m[1][2]"
   ]
  },
  {
   "cell_type": "markdown",
   "id": "f80fb0d9-3318-43b1-a163-28039d188f2e",
   "metadata": {},
   "source": [
    "-----\n",
    "# Day 5\n",
    "TODO"
   ]
  },
  {
   "cell_type": "markdown",
   "id": "25319dc6-44a2-4244-af71-1862b756a1af",
   "metadata": {
    "jp-MarkdownHeadingCollapsed": true
   },
   "source": [
    "-----\n",
    "# Day 6\n",
    "## Part 1"
   ]
  },
  {
   "cell_type": "code",
   "execution_count": 86,
   "id": "94b8d0ae-dd71-455a-a3b5-56bff8c3f4c9",
   "metadata": {},
   "outputs": [
    {
     "data": {
      "text/plain": [
       "41"
      ]
     },
     "execution_count": 86,
     "metadata": {},
     "output_type": "execute_result"
    }
   ],
   "source": [
    "class WalkableMap:\n",
    "    def __init__(self, map):\n",
    "        self.map = map\n",
    "        self.max_x0 = len(map)\n",
    "        self.max_x1 = len(map[0])\n",
    "        self.start = self.__find_guard()\n",
    "        self.__reset()\n",
    "        self.__set('X')\n",
    "        self.count = 1\n",
    "\n",
    "        \n",
    "    def __find_guard(self):\n",
    "        '''\n",
    "        Detect the starting position '^' in the given map\n",
    "        '''\n",
    "        return next((i,s.index('^')) for i,s in enumerate(self.map) if '^' in s)\n",
    "\n",
    "    def __reset(self):\n",
    "        self.x = self.start\n",
    "        self.v = (-1, 0)\n",
    "        self.path = [(self.x, self.v)]\n",
    "        self.stuck = False\n",
    "\n",
    "    def __set(self, c, x=None):\n",
    "        if x == None:\n",
    "            x = self.x\n",
    "        x0, x1 = x\n",
    "        l = list(self.map[x0])\n",
    "        l[x1] = c\n",
    "        self.map[x0] = ''.join(l)\n",
    "\n",
    "    def step(self):\n",
    "        if self.done():\n",
    "            return\n",
    "        x0, x1 = self.x\n",
    "        y = x0 + self.v[0], x1 + self.v[1]\n",
    "        if self.__exited(y):\n",
    "            self.x = y\n",
    "        elif self.__peek(y) == '#':\n",
    "            self.v = self.v[1], -self.v[0]\n",
    "        else:\n",
    "            if (y, self.v) in self.path:\n",
    "                self.stuck = True\n",
    "            else:\n",
    "                self.path.append((y, self.v))\n",
    "            self.x = y\n",
    "            if self.__peek() == '.':\n",
    "                self.__set('X')\n",
    "                self.count += 1\n",
    "\n",
    "    def done(self):\n",
    "        return self.exited() or self.stuck\n",
    "        \n",
    "    def exited(self):\n",
    "        return self.__exited(self.x)\n",
    "\n",
    "    def __exited(self, p):\n",
    "        return p[0] < 0 or p[0] >= self.max_x0 or p[1] < 0 or p[1] >= self.max_x1\n",
    "\n",
    "    def __peek(self, y=None):\n",
    "        if y == None:\n",
    "            y = self.x\n",
    "        return self.map[y[0]][y[1]]\n",
    "    \n",
    "    def route(self):\n",
    "        '''\n",
    "        Keep steppping until the guard exits the map\n",
    "\n",
    "        Returns the number of locations visited.\n",
    "        '''\n",
    "        while not self.done():\n",
    "            self.step()\n",
    "        return self.count\n",
    "\n",
    "    def traps(self):\n",
    "        '''\n",
    "        Count the number of ways to trap the guard\n",
    "        '''\n",
    "        cnt = 0\n",
    "        for x0 in range(self.max_x0):\n",
    "            for x1 in range(self.max_x1):\n",
    "                if (x0,x1) != self.start and self.__peek((x0, x1)) != '#':\n",
    "                    self.__set('#', (x0,x1))\n",
    "                    self.__reset()\n",
    "                    self.route()\n",
    "                    if self.stuck:\n",
    "                        cnt += 1\n",
    "                    self.__set('.', (x0,x1))\n",
    "        return cnt\n",
    "        \n",
    "        \n",
    "wm = WalkableMap('''\n",
    "....#.....\n",
    ".........#\n",
    "..........\n",
    "..#.......\n",
    ".......#..\n",
    "..........\n",
    ".#..^.....\n",
    "........#.\n",
    "#.........\n",
    "......#...\n",
    "'''.split())\n",
    "\n",
    "wm.route()"
   ]
  },
  {
   "cell_type": "code",
   "execution_count": 87,
   "id": "7c87d3f0-6fba-4c4a-9309-213339c36477",
   "metadata": {},
   "outputs": [
    {
     "data": {
      "text/plain": [
       "5153"
      ]
     },
     "execution_count": 87,
     "metadata": {},
     "output_type": "execute_result"
    }
   ],
   "source": [
    "with open('6.txt') as input:\n",
    "    txt6 = input.read()\n",
    "WalkableMap(txt6.split()).route()"
   ]
  },
  {
   "cell_type": "markdown",
   "id": "0ccc9d9f-6f1a-4a24-9fee-46f90c6dc737",
   "metadata": {},
   "source": [
    "## Part 2"
   ]
  },
  {
   "cell_type": "code",
   "execution_count": 88,
   "id": "010198e2-cfb1-47ac-aabe-4e8ffe46be7d",
   "metadata": {},
   "outputs": [
    {
     "data": {
      "text/plain": [
       "6"
      ]
     },
     "execution_count": 88,
     "metadata": {},
     "output_type": "execute_result"
    }
   ],
   "source": [
    "wm.traps()"
   ]
  },
  {
   "cell_type": "code",
   "execution_count": 89,
   "id": "313cd0ab-7e33-424a-97dd-6416309f70ca",
   "metadata": {},
   "outputs": [
    {
     "data": {
      "text/plain": [
       "1711"
      ]
     },
     "execution_count": 89,
     "metadata": {},
     "output_type": "execute_result"
    }
   ],
   "source": [
    "WalkableMap(txt6.split()).traps()"
   ]
  },
  {
   "cell_type": "markdown",
   "id": "2ea242a0-460d-4345-8f89-7c4c99cae075",
   "metadata": {},
   "source": [
    "# Day 7\n",
    "## Part 1"
   ]
  },
  {
   "cell_type": "code",
   "execution_count": 124,
   "id": "21863281-1059-49cb-a6af-1aa4e2686441",
   "metadata": {},
   "outputs": [],
   "source": [
    "ss = '''190: 10 19\n",
    "3267: 81 40 27\n",
    "83: 17 5\n",
    "156: 15 6\n",
    "7290: 6 8 6 15\n",
    "161011: 16 10 13\n",
    "192: 17 8 14\n",
    "21037: 9 7 18 13\n",
    "292: 11 6 16 20'''.split('\\n')\n",
    "\n",
    "def parse7(s):\n",
    "    r, ns = s.split(': ')\n",
    "    return int(r), [int(x) for x in ns.split()]\n",
    "\n",
    "def chk7(eq, concat=False):\n",
    "    r, xs = eq\n",
    "    ys = xs[1:]\n",
    "    for fs in ops_lists(len(ys), concat):\n",
    "        x = xs[0]\n",
    "        for f, y in zip(fs, ys):\n",
    "            x = f(x, y)\n",
    "        if x == r:\n",
    "            return True\n",
    "    return False\n",
    "\n",
    "def ops_lists(n, concat):\n",
    "    if n == 0:\n",
    "        return [[]]\n",
    "    else:\n",
    "        ls = ops_lists(n-1, concat)\n",
    "        r = [l + [lambda x,y: x+y] for l in ls] + [l + [lambda x,y: x*y] for l in ls]\n",
    "        if concat:\n",
    "            r += [l + [lambda x, y: int(str(x) + str(y))] for l in ls]\n",
    "        return r"
   ]
  },
  {
   "cell_type": "code",
   "execution_count": 125,
   "id": "80025331-6b37-476e-b178-42791dac1ec5",
   "metadata": {},
   "outputs": [
    {
     "data": {
      "text/plain": [
       "True"
      ]
     },
     "execution_count": 125,
     "metadata": {},
     "output_type": "execute_result"
    }
   ],
   "source": [
    "chk7((3267, [81, 40, 27]))"
   ]
  },
  {
   "cell_type": "code",
   "execution_count": 126,
   "id": "66b922c8-a319-430b-8e8d-db1c35e3aa96",
   "metadata": {},
   "outputs": [
    {
     "data": {
      "text/plain": [
       "3749"
      ]
     },
     "execution_count": 126,
     "metadata": {},
     "output_type": "execute_result"
    }
   ],
   "source": [
    "sum([x for x,xs in list(map(parse7, ss)) if chk7((x,xs))])"
   ]
  },
  {
   "cell_type": "code",
   "execution_count": 127,
   "id": "2ad46a4b-0faf-4cad-85e0-da412f83f480",
   "metadata": {},
   "outputs": [
    {
     "data": {
      "text/plain": [
       "5030892084481"
      ]
     },
     "execution_count": 127,
     "metadata": {},
     "output_type": "execute_result"
    }
   ],
   "source": [
    "with open('7.txt') as input:\n",
    "    txt7 = [s for s in input.read().split('\\n') if len(s) > 0]\n",
    "sum([x for x,xs in list(map(parse7, txt7)) if chk7((x,xs))])"
   ]
  },
  {
   "cell_type": "markdown",
   "id": "c141ad81-0f34-4f2d-9aeb-d54eaa5a5673",
   "metadata": {},
   "source": [
    "## Part 2"
   ]
  },
  {
   "cell_type": "code",
   "execution_count": 130,
   "id": "0a470961-7ac1-4e4b-9303-c2d77faa615e",
   "metadata": {},
   "outputs": [
    {
     "data": {
      "text/plain": [
       "11387"
      ]
     },
     "execution_count": 130,
     "metadata": {},
     "output_type": "execute_result"
    }
   ],
   "source": [
    "sum([x for x,xs in list(map(parse7, ss)) if chk7((x,xs), True)])"
   ]
  },
  {
   "cell_type": "code",
   "execution_count": 131,
   "id": "22016c69-d517-41fe-997a-fc047672d65d",
   "metadata": {},
   "outputs": [
    {
     "data": {
      "text/plain": [
       "91377448644679"
      ]
     },
     "execution_count": 131,
     "metadata": {},
     "output_type": "execute_result"
    }
   ],
   "source": [
    "with open('7.txt') as input:\n",
    "    txt7 = [s for s in input.read().split('\\n') if len(s) > 0]\n",
    "sum([x for x,xs in list(map(parse7, txt7)) if chk7((x,xs), True)])"
   ]
  },
  {
   "cell_type": "code",
   "execution_count": null,
   "id": "f95bb8f7-022f-46ae-bfce-26d520511e22",
   "metadata": {},
   "outputs": [],
   "source": []
  }
 ],
 "metadata": {
  "kernelspec": {
   "display_name": "Python 3 (ipykernel)",
   "language": "python",
   "name": "python3"
  },
  "language_info": {
   "codemirror_mode": {
    "name": "ipython",
    "version": 3
   },
   "file_extension": ".py",
   "mimetype": "text/x-python",
   "name": "python",
   "nbconvert_exporter": "python",
   "pygments_lexer": "ipython3",
   "version": "3.9.2"
  }
 },
 "nbformat": 4,
 "nbformat_minor": 5
}
