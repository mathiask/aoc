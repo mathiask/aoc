{
 "cells": [
  {
   "cell_type": "markdown",
   "id": "038a1225-2685-40cc-af87-74e2ff2efeef",
   "metadata": {},
   "source": [
    "# Advent of Code 2024"
   ]
  },
  {
   "cell_type": "markdown",
   "id": "1407b6a4-8fcc-45c0-b0fd-56694b243cc8",
   "metadata": {},
   "source": [
    "## Day 1"
   ]
  },
  {
   "cell_type": "markdown",
   "id": "368e7f4c-0f9a-4bbd-ade4-87a5bbd548f5",
   "metadata": {},
   "source": [
    "## Part 1"
   ]
  },
  {
   "cell_type": "code",
   "execution_count": 40,
   "id": "ceec6697-84b7-4636-96e2-e2cd7c7bb366",
   "metadata": {},
   "outputs": [
    {
     "data": {
      "text/plain": [
       "11"
      ]
     },
     "execution_count": 40,
     "metadata": {},
     "output_type": "execute_result"
    }
   ],
   "source": [
    "t1 = [3, 4, 2, 1, 3, 3]\n",
    "t2 = [4, 3, 5, 3, 9, 3]\n",
    "sum([abs(x-y) for x, y in zip(sorted(t1), sorted(t2))])"
   ]
  },
  {
   "cell_type": "code",
   "execution_count": 41,
   "id": "5b893a4d-e38d-493f-a1c3-69bd85beeef9",
   "metadata": {},
   "outputs": [
    {
     "data": {
      "text/plain": [
       "2375403"
      ]
     },
     "execution_count": 41,
     "metadata": {},
     "output_type": "execute_result"
    }
   ],
   "source": [
    "with open('1.txt') as file:\n",
    "    pairs = [(int(x), int(y)) for x, y in (line.split() for line in file)]\n",
    "l1, l2 = zip(*pairs)\n",
    "sum([abs(x-y) for x, y in zip(sorted(l1), sorted(l2))])"
   ]
  },
  {
   "cell_type": "markdown",
   "id": "2d8e1466-abf0-4992-97d9-f27b2af5ef40",
   "metadata": {},
   "source": [
    "## Part 2"
   ]
  },
  {
   "cell_type": "code",
   "execution_count": 49,
   "id": "d7a6aa7f-0fed-4ad4-83b5-96f1075b38c2",
   "metadata": {},
   "outputs": [
    {
     "data": {
      "text/plain": [
       "[9, 4, 0, 0, 9, 9]"
      ]
     },
     "execution_count": 49,
     "metadata": {},
     "output_type": "execute_result"
    }
   ],
   "source": [
    "[x * len([y for y in t2 if x == y]) for x in t1]"
   ]
  },
  {
   "cell_type": "code",
   "execution_count": 50,
   "id": "950a1afb-adc1-41c6-97c1-6e5c49daf10c",
   "metadata": {},
   "outputs": [
    {
     "data": {
      "text/plain": [
       "23082277"
      ]
     },
     "execution_count": 50,
     "metadata": {},
     "output_type": "execute_result"
    }
   ],
   "source": [
    "sum([x * len([y for y in l2 if x == y]) for x in l1])"
   ]
  }
 ],
 "metadata": {
  "kernelspec": {
   "display_name": "Python 3 (ipykernel)",
   "language": "python",
   "name": "python3"
  },
  "language_info": {
   "codemirror_mode": {
    "name": "ipython",
    "version": 3
   },
   "file_extension": ".py",
   "mimetype": "text/x-python",
   "name": "python",
   "nbconvert_exporter": "python",
   "pygments_lexer": "ipython3",
   "version": "3.9.2"
  }
 },
 "nbformat": 4,
 "nbformat_minor": 5
}
